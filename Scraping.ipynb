{
 "cells": [
  {
   "cell_type": "code",
   "execution_count": 1,
   "metadata": {},
   "outputs": [
    {
     "name": "stdout",
     "output_type": "stream",
     "text": [
      "Requirement already satisfied: pandas in c:\\users\\aziza\\anaconda3\\envs\\atelierml\\lib\\site-packages (2.2.3)\n",
      "Requirement already satisfied: numpy>=1.22.4 in c:\\users\\aziza\\anaconda3\\envs\\atelierml\\lib\\site-packages (from pandas) (1.26.4)\n",
      "Requirement already satisfied: python-dateutil>=2.8.2 in c:\\users\\aziza\\anaconda3\\envs\\atelierml\\lib\\site-packages (from pandas) (2.9.0.post0)\n",
      "Requirement already satisfied: pytz>=2020.1 in c:\\users\\aziza\\anaconda3\\envs\\atelierml\\lib\\site-packages (from pandas) (2024.2)\n",
      "Requirement already satisfied: tzdata>=2022.7 in c:\\users\\aziza\\anaconda3\\envs\\atelierml\\lib\\site-packages (from pandas) (2024.2)\n",
      "Requirement already satisfied: six>=1.5 in c:\\users\\aziza\\anaconda3\\envs\\atelierml\\lib\\site-packages (from python-dateutil>=2.8.2->pandas) (1.16.0)\n"
     ]
    }
   ],
   "source": [
    "! pip install pandas "
   ]
  },
  {
   "cell_type": "code",
   "execution_count": 2,
   "metadata": {},
   "outputs": [
    {
     "name": "stdout",
     "output_type": "stream",
     "text": [
      "Requirement already satisfied: bs4 in c:\\users\\aziza\\anaconda3\\envs\\atelierml\\lib\\site-packages (0.0.2)\n",
      "Requirement already satisfied: beautifulsoup4 in c:\\users\\aziza\\anaconda3\\envs\\atelierml\\lib\\site-packages (from bs4) (4.12.3)\n",
      "Requirement already satisfied: soupsieve>1.2 in c:\\users\\aziza\\anaconda3\\envs\\atelierml\\lib\\site-packages (from beautifulsoup4->bs4) (2.6)\n",
      "Requirement already satisfied: requests in c:\\users\\aziza\\anaconda3\\envs\\atelierml\\lib\\site-packages (2.32.3)\n",
      "Requirement already satisfied: charset-normalizer<4,>=2 in c:\\users\\aziza\\anaconda3\\envs\\atelierml\\lib\\site-packages (from requests) (2.1.1)\n",
      "Requirement already satisfied: idna<4,>=2.5 in c:\\users\\aziza\\anaconda3\\envs\\atelierml\\lib\\site-packages (from requests) (3.4)\n",
      "Requirement already satisfied: urllib3<3,>=1.21.1 in c:\\users\\aziza\\anaconda3\\envs\\atelierml\\lib\\site-packages (from requests) (1.26.12)\n",
      "Requirement already satisfied: certifi>=2017.4.17 in c:\\users\\aziza\\anaconda3\\envs\\atelierml\\lib\\site-packages (from requests) (2022.9.24)\n",
      "Requirement already satisfied: selenium in c:\\users\\aziza\\anaconda3\\envs\\atelierml\\lib\\site-packages (4.27.1)\n",
      "Requirement already satisfied: urllib3<3,>=1.26 in c:\\users\\aziza\\anaconda3\\envs\\atelierml\\lib\\site-packages (from urllib3[socks]<3,>=1.26->selenium) (1.26.12)\n",
      "Requirement already satisfied: trio~=0.17 in c:\\users\\aziza\\anaconda3\\envs\\atelierml\\lib\\site-packages (from selenium) (0.27.0)\n",
      "Requirement already satisfied: trio-websocket~=0.9 in c:\\users\\aziza\\anaconda3\\envs\\atelierml\\lib\\site-packages (from selenium) (0.11.1)\n",
      "Requirement already satisfied: certifi>=2021.10.8 in c:\\users\\aziza\\anaconda3\\envs\\atelierml\\lib\\site-packages (from selenium) (2022.9.24)\n",
      "Requirement already satisfied: typing_extensions~=4.9 in c:\\users\\aziza\\anaconda3\\envs\\atelierml\\lib\\site-packages (from selenium) (4.12.2)\n",
      "Requirement already satisfied: websocket-client~=1.8 in c:\\users\\aziza\\anaconda3\\envs\\atelierml\\lib\\site-packages (from selenium) (1.8.0)\n",
      "Requirement already satisfied: attrs>=23.2.0 in c:\\users\\aziza\\anaconda3\\envs\\atelierml\\lib\\site-packages (from trio~=0.17->selenium) (24.3.0)\n",
      "Requirement already satisfied: sortedcontainers in c:\\users\\aziza\\anaconda3\\envs\\atelierml\\lib\\site-packages (from trio~=0.17->selenium) (2.4.0)\n",
      "Requirement already satisfied: idna in c:\\users\\aziza\\anaconda3\\envs\\atelierml\\lib\\site-packages (from trio~=0.17->selenium) (3.4)\n",
      "Requirement already satisfied: outcome in c:\\users\\aziza\\anaconda3\\envs\\atelierml\\lib\\site-packages (from trio~=0.17->selenium) (1.3.0.post0)\n",
      "Requirement already satisfied: sniffio>=1.3.0 in c:\\users\\aziza\\anaconda3\\envs\\atelierml\\lib\\site-packages (from trio~=0.17->selenium) (1.3.1)\n",
      "Requirement already satisfied: cffi>=1.14 in c:\\users\\aziza\\anaconda3\\envs\\atelierml\\lib\\site-packages (from trio~=0.17->selenium) (1.17.1)\n",
      "Requirement already satisfied: exceptiongroup in c:\\users\\aziza\\anaconda3\\envs\\atelierml\\lib\\site-packages (from trio~=0.17->selenium) (1.2.2)\n",
      "Requirement already satisfied: wsproto>=0.14 in c:\\users\\aziza\\anaconda3\\envs\\atelierml\\lib\\site-packages (from trio-websocket~=0.9->selenium) (1.2.0)\n",
      "Requirement already satisfied: PySocks!=1.5.7,<2.0,>=1.5.6 in c:\\users\\aziza\\anaconda3\\envs\\atelierml\\lib\\site-packages (from urllib3[socks]<3,>=1.26->selenium) (1.7.1)\n",
      "Requirement already satisfied: pycparser in c:\\users\\aziza\\anaconda3\\envs\\atelierml\\lib\\site-packages (from cffi>=1.14->trio~=0.17->selenium) (2.22)\n",
      "Requirement already satisfied: h11<1,>=0.9.0 in c:\\users\\aziza\\anaconda3\\envs\\atelierml\\lib\\site-packages (from wsproto>=0.14->trio-websocket~=0.9->selenium) (0.14.0)\n"
     ]
    }
   ],
   "source": [
    "! pip install bs4\n",
    "! pip install requests\n",
    "! pip install selenium"
   ]
  },
  {
   "cell_type": "code",
   "execution_count": 3,
   "metadata": {},
   "outputs": [
    {
     "name": "stdout",
     "output_type": "stream",
     "text": [
      "Requirement already satisfied: selenium in c:\\users\\aziza\\anaconda3\\envs\\atelierml\\lib\\site-packages (4.27.1)\n",
      "Requirement already satisfied: urllib3<3,>=1.26 in c:\\users\\aziza\\anaconda3\\envs\\atelierml\\lib\\site-packages (from urllib3[socks]<3,>=1.26->selenium) (1.26.12)\n",
      "Requirement already satisfied: trio~=0.17 in c:\\users\\aziza\\anaconda3\\envs\\atelierml\\lib\\site-packages (from selenium) (0.27.0)\n",
      "Requirement already satisfied: trio-websocket~=0.9 in c:\\users\\aziza\\anaconda3\\envs\\atelierml\\lib\\site-packages (from selenium) (0.11.1)\n",
      "Requirement already satisfied: certifi>=2021.10.8 in c:\\users\\aziza\\anaconda3\\envs\\atelierml\\lib\\site-packages (from selenium) (2022.9.24)\n",
      "Requirement already satisfied: typing_extensions~=4.9 in c:\\users\\aziza\\anaconda3\\envs\\atelierml\\lib\\site-packages (from selenium) (4.12.2)\n",
      "Requirement already satisfied: websocket-client~=1.8 in c:\\users\\aziza\\anaconda3\\envs\\atelierml\\lib\\site-packages (from selenium) (1.8.0)\n",
      "Requirement already satisfied: attrs>=23.2.0 in c:\\users\\aziza\\anaconda3\\envs\\atelierml\\lib\\site-packages (from trio~=0.17->selenium) (24.3.0)\n",
      "Requirement already satisfied: sortedcontainers in c:\\users\\aziza\\anaconda3\\envs\\atelierml\\lib\\site-packages (from trio~=0.17->selenium) (2.4.0)\n",
      "Requirement already satisfied: idna in c:\\users\\aziza\\anaconda3\\envs\\atelierml\\lib\\site-packages (from trio~=0.17->selenium) (3.4)\n",
      "Requirement already satisfied: outcome in c:\\users\\aziza\\anaconda3\\envs\\atelierml\\lib\\site-packages (from trio~=0.17->selenium) (1.3.0.post0)\n",
      "Requirement already satisfied: sniffio>=1.3.0 in c:\\users\\aziza\\anaconda3\\envs\\atelierml\\lib\\site-packages (from trio~=0.17->selenium) (1.3.1)\n",
      "Requirement already satisfied: cffi>=1.14 in c:\\users\\aziza\\anaconda3\\envs\\atelierml\\lib\\site-packages (from trio~=0.17->selenium) (1.17.1)\n",
      "Requirement already satisfied: exceptiongroup in c:\\users\\aziza\\anaconda3\\envs\\atelierml\\lib\\site-packages (from trio~=0.17->selenium) (1.2.2)\n",
      "Requirement already satisfied: wsproto>=0.14 in c:\\users\\aziza\\anaconda3\\envs\\atelierml\\lib\\site-packages (from trio-websocket~=0.9->selenium) (1.2.0)\n",
      "Requirement already satisfied: PySocks!=1.5.7,<2.0,>=1.5.6 in c:\\users\\aziza\\anaconda3\\envs\\atelierml\\lib\\site-packages (from urllib3[socks]<3,>=1.26->selenium) (1.7.1)\n",
      "Requirement already satisfied: pycparser in c:\\users\\aziza\\anaconda3\\envs\\atelierml\\lib\\site-packages (from cffi>=1.14->trio~=0.17->selenium) (2.22)\n",
      "Requirement already satisfied: h11<1,>=0.9.0 in c:\\users\\aziza\\anaconda3\\envs\\atelierml\\lib\\site-packages (from wsproto>=0.14->trio-websocket~=0.9->selenium) (0.14.0)\n"
     ]
    }
   ],
   "source": [
    "! pip install selenium\n"
   ]
  },
  {
   "cell_type": "code",
   "execution_count": 7,
   "metadata": {},
   "outputs": [
    {
     "name": "stdout",
     "output_type": "stream",
     "text": [
      "Page title: Petites Annonces Immobilier en Tunisie\n",
      "Number of ads found: 25\n",
      "{'Location': 'Cite El Bassati', 'Type': 'Terrain', 'Category': 'Terrain nu', 'Description': 'Adel  terrain khelija', 'Price': '66 000', 'Date': '18/12/2024', 'Rooms': 'N/A', 'Surface': '180 m²'}\n",
      "{'Location': 'El Yasminette', 'Type': 'Vente', 'Category': 'Maisons', 'Description': 'Maison yasminette', 'Price': '180 000', 'Date': '18/12/2024', 'Rooms': 'N/A', 'Surface': '150 m²'}\n",
      "{'Location': 'Bou Mhel', 'Type': 'Vente', 'Category': 'Duplex', 'Description': 'Maison  à boumhel', 'Price': '550 000', 'Date': '18/12/2024', 'Rooms': 'N/A', 'Surface': '156 m²'}\n",
      "{'Location': 'Sidi Daoud', 'Type': 'Location', 'Category': 'Maisons', 'Description': 'Villa s4 avec jardin à l', 'Price': '4 000', 'Date': '18/12/2024', 'Rooms': 4, 'Surface': '1 m²'}\n",
      "{'Location': 'Gammart', 'Type': 'Location', 'Category': 'Maisons', 'Description': 'Villa s3 meublée vue mer', 'Price': '9 500', 'Date': '18/12/2024', 'Rooms': 3, 'Surface': '1 m²'}\n",
      "{'Location': 'Cite Ennasr 2', 'Type': 'Location', 'Category': 'App. 2 pièc', 'Description': 'Appart s1 meublé haut st', 'Price': '1 200', 'Date': '18/12/2024', 'Rooms': 1, 'Surface': '70 m²'}\n",
      "{'Location': 'Kelibia', 'Type': 'Vente', 'Category': 'Surfaces', 'Description': 'Terrain 500 m2 à cité ta', 'Price': '100 000', 'Date': '18/12/2024', 'Rooms': 'N/A', 'Surface': '500 m²'}\n",
      "{'Location': 'Kelibia', 'Type': 'Vente', 'Category': 'Surfaces', 'Description': 'Terrain 306 m2 à cité ri', 'Price': '110 000', 'Date': '18/12/2024', 'Rooms': 'N/A', 'Surface': '306 m²'}\n",
      "{'Location': 'Chotrana 2', 'Type': 'Vente', 'Category': 'Maisons', 'Description': 'Villa s4 sur deux niveau', 'Price': '1 150 000', 'Date': '18/12/2024', 'Rooms': 4, 'Surface': '400 m²'}\n",
      "{'Location': 'Cite Ennasr 2', 'Type': 'Location', 'Category': 'App. 3 pièc', 'Description': 'Appartement s2 à ennasr', 'Price': '1 200', 'Date': '18/12/2024', 'Rooms': 2, 'Surface': '125 m²'}\n",
      "{'Location': 'Gammart', 'Type': 'Location', 'Category': 'Maisons', 'Description': 'Villa s4 semi meublé à g', 'Price': '3 500', 'Date': '18/12/2024', 'Rooms': 4, 'Surface': '350 m²'}\n",
      "{'Location': 'Bou Mhel', 'Type': 'Location', 'Category': 'App. 3 pièc', 'Description': 'Bureau haut standing s3 à bou', 'Price': '950', 'Date': '18/12/2024', 'Rooms': 2, 'Surface': '120 m²'}\n",
      "{'Location': 'Bou Mhel', 'Type': 'Location', 'Category': 'App. 1 pièc', 'Description': 'Bureau s0 a boumhel', 'Price': '480', 'Date': '18/12/2024', 'Rooms': 0, 'Surface': '70 m²'}\n",
      "{'Location': 'Cite Ennasr 2', 'Type': 'Vente', 'Category': 'App. 1 pièc', 'Description': 'Appart neuf promoteur', 'Price': '233 000', 'Date': '18/12/2024', 'Rooms': 0, 'Surface': '58 m²'}\n",
      "{'Location': 'Montplaisir', 'Type': 'Bureaux & Commer', 'Category': 'Bureau', 'Description': 'Bureaux lux openspace avec fi', 'Price': '3 000', 'Date': '18/12/2024', 'Rooms': 'N/A', 'Surface': '170 m²'}\n",
      "{'Location': 'Montplaisir', 'Type': 'Bureaux & Commer', 'Category': 'Bureau', 'Description': 'Alainsavary bureau 3 pieces p', 'Price': '1 000', 'Date': '18/12/2024', 'Rooms': 'N/A', 'Surface': '78 m²'}\n",
      "{'Location': 'Gammart', 'Type': 'Terrain', 'Category': 'Terrain nu', 'Description': 'Terrain de rêve', 'Price': '3 600 000', 'Date': '18/12/2024', 'Rooms': 'N/A', 'Surface': '1 800 m²'}\n",
      "{'Location': 'El Aouina', 'Type': 'Vente', 'Category': 'App. 1 pièc', 'Description': 'Coquet appartement', 'Price': '190 000', 'Date': '18/12/2024', 'Rooms': 0, 'Surface': '56 m²'}\n",
      "{'Location': 'Hedi Chaker', 'Type': 'Bureaux & Commer', 'Category': 'Bureau', 'Description': 'Lafayette des bureaux 3 et 4', 'Price': '700', 'Date': '18/12/2024', 'Rooms': 'N/A', 'Surface': '76 m²'}\n",
      "{'Location': 'Bizerte', 'Type': 'Vente', 'Category': 'Maisons', 'Description': 'Belle villa  bizere', 'Price': '760 000', 'Date': '18/12/2024', 'Rooms': 'N/A', 'Surface': '650 m²'}\n",
      "{'Location': 'Kerkouane', 'Type': 'Vente', 'Category': 'App. 4 pièc', 'Description': 'Villa avec piscine à pla', 'Price': '600 000', 'Date': '18/12/2024', 'Rooms': 3, 'Surface': '1 085 m²'}\n",
      "{'Location': 'Ariana', 'Type': 'Location', 'Category': 'Maisons', 'Description': 'Etage s4 à cité milaha', 'Price': '1 200', 'Date': '18/12/2024', 'Rooms': 4, 'Surface': '150 m²'}\n",
      "{'Location': 'Chotrana 1', 'Type': 'Vente', 'Category': 'App. 1 pièc', 'Description': 'Apprt s0 à la soukra sidi', 'Price': '120 000', 'Date': '18/12/2024', 'Rooms': 0, 'Surface': '40 m²'}\n",
      "{'Location': 'Montplaisir', 'Type': 'Bureaux & Commer', 'Category': 'Bureau', 'Description': 'Bureau en hall 3 à monpl', 'Price': '1 700', 'Date': '18/12/2024', 'Rooms': 'N/A', 'Surface': '100 m²'}\n",
      "{'Location': 'Montplaisir', 'Type': 'Bureaux & Commer', 'Category': 'Bureau', 'Description': 'Plateau sup 340m  à alai', 'Price': '5 500', 'Date': '18/12/2024', 'Rooms': 'N/A', 'Surface': '340 m²'}\n"
     ]
    }
   ],
   "source": [
    "import re\n",
    "from selenium import webdriver\n",
    "from bs4 import BeautifulSoup as soup\n",
    "from selenium.webdriver.chrome.service import Service\n",
    "from webdriver_manager.chrome import ChromeDriverManager\n",
    "import time  # To allow for delays while loading new pages\n",
    "\n",
    "# Set up Selenium WebDriver\n",
    "service = Service(ChromeDriverManager().install())\n",
    "driver = webdriver.Chrome(service=service)\n",
    "\n",
    "# Load the main page\n",
    "url = 'http://www.tunisie-annonce.com/AnnoncesImmobilier.asp'\n",
    "driver.get(url)\n",
    "print(\"Page title:\", driver.title)\n",
    "\n",
    "# Parse the main page\n",
    "page = soup(driver.page_source, 'html.parser')\n",
    "\n",
    "# Extract property ads\n",
    "ads = page.find_all(\"tr\", class_=\"Tableau1\")  # Rows containing ads\n",
    "print(f\"Number of ads found: {len(ads)}\")\n",
    "\n",
    "# Function to extract number of rooms\n",
    "def extract_rooms(category, description):\n",
    "    category_match = re.search(r'App\\.\\s*(\\d+)', category)\n",
    "    if category_match:\n",
    "        return int(category_match.group(1)) - 1  # Convention (e.g., 3 pièces = 2 rooms)\n",
    "\n",
    "    description_match = re.search(r'\\bS(\\d+)\\b', description, re.IGNORECASE)\n",
    "    if description_match:\n",
    "        return int(description_match.group(1))\n",
    "    return \"N/A\"\n",
    "\n",
    "# Function to extract surface area from detailed page\n",
    "def extract_surface(details_url):\n",
    "    try:\n",
    "        driver.get(details_url)  # Load the detailed page\n",
    "        time.sleep(2)  # Allow time for the page to load\n",
    "        details_page = soup(driver.page_source, 'html.parser')\n",
    "\n",
    "        # Find the \"Surface\" field\n",
    "        surface_row = details_page.find(\"td\", class_=\"da_label_field\", string=\"Surface\")\n",
    "        if surface_row:\n",
    "            surface = surface_row.find_next_sibling(\"td\").text.strip()\n",
    "            # Replace non-breaking space (\\xa0) with a regular space\n",
    "            surface_cleaned = surface.replace(\"\\xa0\", \" \")\n",
    "            return surface_cleaned\n",
    "        return \"N/A\"\n",
    "    except Exception as e:\n",
    "        print(f\"Error extracting surface: {e}\")\n",
    "        return \"N/A\"\n",
    "\n",
    "# Extract and display ad details\n",
    "data = []\n",
    "base_url = \"http://www.tunisie-annonce.com/\"\n",
    "for ad in ads:\n",
    "    try:\n",
    "        cols = ad.find_all(\"td\")\n",
    "        if len(cols) >= 12:\n",
    "            location = cols[1].text.strip()\n",
    "            type_house = cols[3].text.strip()\n",
    "            category = cols[5].text.strip()\n",
    "            description_tag = cols[7].find(\"a\")\n",
    "            description = description_tag.text.strip() if description_tag else \"N/A\"\n",
    "            price = cols[9].text.strip()\n",
    "            date = cols[11].text.strip()\n",
    "            rooms = extract_rooms(category, description)\n",
    "\n",
    "            # Extract link to detailed page\n",
    "            details_link = base_url + description_tag[\"href\"] if description_tag and \"href\" in description_tag.attrs else None\n",
    "            surface = extract_surface(details_link) if details_link else \"N/A\"\n",
    "\n",
    "            # Append data\n",
    "            data.append({\n",
    "                \"Location\": location,\n",
    "                \"Type\": type_house,\n",
    "                \"Category\": category,\n",
    "                \"Description\": description,\n",
    "                \"Price\": price,\n",
    "                \"Date\": date,\n",
    "                \"Rooms\": rooms,\n",
    "                \"Surface\": surface\n",
    "            })\n",
    "\n",
    "    except Exception as e:\n",
    "        print(f\"Error parsing ad: {e}\")\n",
    "\n",
    "# Print extracted data\n",
    "for entry in data:\n",
    "    print(entry)\n",
    "\n",
    "# Close the driver\n",
    "driver.quit()\n"
   ]
  },
  {
   "cell_type": "code",
   "execution_count": 6,
   "metadata": {},
   "outputs": [],
   "source": []
  }
 ],
 "metadata": {
  "kernelspec": {
   "display_name": "AtelierMl",
   "language": "python",
   "name": "python3"
  },
  "language_info": {
   "codemirror_mode": {
    "name": "ipython",
    "version": 3
   },
   "file_extension": ".py",
   "mimetype": "text/x-python",
   "name": "python",
   "nbconvert_exporter": "python",
   "pygments_lexer": "ipython3",
   "version": "3.9.20"
  }
 },
 "nbformat": 4,
 "nbformat_minor": 2
}

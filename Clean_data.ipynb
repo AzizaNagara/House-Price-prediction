{
 "cells": [
  {
   "cell_type": "code",
   "execution_count": 179,
   "metadata": {},
   "outputs": [],
   "source": [
    "import pandas as pd\n",
    "import numpy as np\n",
    "import pandas\n",
    "import matplotlib.pyplot as plt\n",
    "import seaborn as sns\n",
    "import warnings\n",
    "warnings.filterwarnings('ignore')\n"
   ]
  },
  {
   "cell_type": "code",
   "execution_count": 180,
   "metadata": {},
   "outputs": [],
   "source": [
    "file_path = \"Unclean_data.csv\"  # Path to your CSV file\n",
    "data = pd.read_csv(file_path)"
   ]
  },
  {
   "cell_type": "code",
   "execution_count": 181,
   "metadata": {},
   "outputs": [
    {
     "name": "stdout",
     "output_type": "stream",
     "text": [
      "Data loaded successfully.\n",
      "Data Shape: (1025, 8)\n",
      "        Location      Type     Category               Description  Price  \\\n",
      "0     El Manar 1  Location  App. 3 pièc  Mignon appartement meubl  1 500   \n",
      "1    El Menzah 9  Location  App. 3 pièc  Magnifique appartement s  1 350   \n",
      "2        Gammart  Location      Maisons   Triplex s4 avec piscine  7 500   \n",
      "3  Marsa Erriadh  Location  App. 4 pièc      Appart s3 samar à la  1 250   \n",
      "4        Gammart  Location       Duplex  Duplex meuble s3 a gamma  4 500   \n",
      "\n",
      "         Date  Rooms Surface  \n",
      "0  19/12/2024    2.0     NaN  \n",
      "1  19/12/2024    2.0     NaN  \n",
      "2  19/12/2024    4.0     NaN  \n",
      "3  19/12/2024    3.0  130 m²  \n",
      "4  19/12/2024    3.0     NaN  \n"
     ]
    }
   ],
   "source": [
    "print(\"Data loaded successfully.\")\n",
    "print(f\"Data Shape: {data.shape}\")\n",
    "print(data.head())\n"
   ]
  },
  {
   "cell_type": "code",
   "execution_count": 182,
   "metadata": {},
   "outputs": [
    {
     "name": "stdout",
     "output_type": "stream",
     "text": [
      "\n",
      "Missing Values:\n",
      "Location         0\n",
      "Type             0\n",
      "Category         0\n",
      "Description      0\n",
      "Price            0\n",
      "Date             0\n",
      "Rooms          537\n",
      "Surface        315\n",
      "dtype: int64\n"
     ]
    }
   ],
   "source": [
    "# Check for missing values\n",
    "print(\"\\nMissing Values:\")\n",
    "print(data.isnull().sum())"
   ]
  },
  {
   "cell_type": "code",
   "execution_count": 183,
   "metadata": {},
   "outputs": [
    {
     "name": "stdout",
     "output_type": "stream",
     "text": [
      "Number of duplicate rows before cleaning: 777\n"
     ]
    }
   ],
   "source": [
    "# Display the number of duplicate rows before cleaning\n",
    "print(f\"Number of duplicate rows before cleaning: {data.duplicated().sum()}\")\n"
   ]
  },
  {
   "cell_type": "code",
   "execution_count": 184,
   "metadata": {},
   "outputs": [
    {
     "name": "stdout",
     "output_type": "stream",
     "text": [
      "\n",
      "Descriptive Statistics:\n",
      "       Location      Type Category               Description  Price  \\\n",
      "count      1025      1025     1025                      1025   1025   \n",
      "unique       71         5       15                       227    119   \n",
      "top     Gammart  Location  Maisons  Villa avec piscine à gam  6 500   \n",
      "freq        112       655      355                        32     41   \n",
      "mean        NaN       NaN      NaN                       NaN    NaN   \n",
      "std         NaN       NaN      NaN                       NaN    NaN   \n",
      "min         NaN       NaN      NaN                       NaN    NaN   \n",
      "25%         NaN       NaN      NaN                       NaN    NaN   \n",
      "50%         NaN       NaN      NaN                       NaN    NaN   \n",
      "75%         NaN       NaN      NaN                       NaN    NaN   \n",
      "max         NaN       NaN      NaN                       NaN    NaN   \n",
      "\n",
      "              Date       Rooms Surface  \n",
      "count         1025  488.000000     710  \n",
      "unique           1         NaN      77  \n",
      "top     19/12/2024         NaN  100 m²  \n",
      "freq          1025         NaN      77  \n",
      "mean           NaN    2.104508     NaN  \n",
      "std            NaN    1.217320     NaN  \n",
      "min            NaN    0.000000     NaN  \n",
      "25%            NaN    1.000000     NaN  \n",
      "50%            NaN    2.000000     NaN  \n",
      "75%            NaN    3.000000     NaN  \n",
      "max            NaN    6.000000     NaN  \n"
     ]
    }
   ],
   "source": [
    "# Quick overview of statistical data\n",
    "print(\"\\nDescriptive Statistics:\")\n",
    "print(data.describe(include=\"all\"))"
   ]
  },
  {
   "cell_type": "code",
   "execution_count": 185,
   "metadata": {},
   "outputs": [],
   "source": [
    "# Remove rows where 'Rooms' is missing or has 'N/A'\n",
    "data['Rooms'] = data['Rooms'].replace('N/A', np.nan)  # Replace 'N/A' with NaN\n",
    "data = data.dropna(subset=['Rooms'])  # Drop rows with NaN in 'Rooms'"
   ]
  },
  {
   "cell_type": "code",
   "execution_count": 186,
   "metadata": {},
   "outputs": [],
   "source": [
    "# Convert 'Rooms' to integer after dropping NaN values\n",
    "data['Rooms'] = data['Rooms'].astype(int)"
   ]
  },
  {
   "cell_type": "code",
   "execution_count": 187,
   "metadata": {},
   "outputs": [
    {
     "name": "stdout",
     "output_type": "stream",
     "text": [
      "Data Shape after removing rows with null 'Rooms': (488, 8)\n",
      "        Location      Type     Category               Description  Price  \\\n",
      "0     El Manar 1  Location  App. 3 pièc  Mignon appartement meubl  1 500   \n",
      "1    El Menzah 9  Location  App. 3 pièc  Magnifique appartement s  1 350   \n",
      "2        Gammart  Location      Maisons   Triplex s4 avec piscine  7 500   \n",
      "3  Marsa Erriadh  Location  App. 4 pièc      Appart s3 samar à la  1 250   \n",
      "4        Gammart  Location       Duplex  Duplex meuble s3 a gamma  4 500   \n",
      "\n",
      "         Date  Rooms Surface  \n",
      "0  19/12/2024      2     NaN  \n",
      "1  19/12/2024      2     NaN  \n",
      "2  19/12/2024      4     NaN  \n",
      "3  19/12/2024      3  130 m²  \n",
      "4  19/12/2024      3     NaN  \n"
     ]
    }
   ],
   "source": [
    "print(f\"Data Shape after removing rows with null 'Rooms': {data.shape}\")\n",
    "print(data.head())"
   ]
  },
  {
   "cell_type": "code",
   "execution_count": 188,
   "metadata": {},
   "outputs": [
    {
     "name": "stdout",
     "output_type": "stream",
     "text": [
      "\n",
      "Missing Values:\n",
      "Location         0\n",
      "Type             0\n",
      "Category         0\n",
      "Description      0\n",
      "Price            0\n",
      "Date             0\n",
      "Rooms            0\n",
      "Surface        141\n",
      "dtype: int64\n"
     ]
    }
   ],
   "source": [
    "# Check for missing values\n",
    "print(\"\\nMissing Values:\")\n",
    "print(data.isnull().sum())"
   ]
  },
  {
   "cell_type": "code",
   "execution_count": 189,
   "metadata": {},
   "outputs": [
    {
     "name": "stdout",
     "output_type": "stream",
     "text": [
      "Number of missing Surface values after filling: 7\n"
     ]
    }
   ],
   "source": [
    "# Convert Surface to numeric and handle missing values\n",
    "data['Surface'] = (\n",
    "    data['Surface']\n",
    "    .astype(str)  # Convert all values to string\n",
    "    .str.replace(' m²', '', regex=False)\n",
    "    .str.replace(',', '', regex=False)\n",
    "    .replace('N/A', np.nan)\n",
    "    .astype(float)  # Convert back to float\n",
    ")\n",
    "\n",
    "# Ensure Rooms column is numeric\n",
    "data['Rooms'] = data['Rooms'].replace('N/A', np.nan).astype(float)\n",
    "\n",
    "# Calculate mean Surface for each Rooms count, ignoring nulls\n",
    "mean_surface_per_room = data.groupby('Rooms')['Surface'].mean()\n",
    "\n",
    "# Fill missing Surface values with the mean based on Rooms\n",
    "def fill_surface(row):\n",
    "    if pd.isnull(row['Surface']):\n",
    "        return mean_surface_per_room.get(row['Rooms'], np.nan)\n",
    "    return row['Surface']\n",
    "\n",
    "data['Surface'] = data.apply(fill_surface, axis=1)\n",
    "\n",
    "# Reset index after updating\n",
    "data = data.reset_index(drop=True)\n",
    "# Convert 'Rooms' to integer after dropping NaN values\n",
    "data['Rooms'] = data['Rooms'].astype(int)\n",
    "\n",
    "print(f\"Number of missing Surface values after filling: {data['Surface'].isnull().sum()}\")\n",
    "\n",
    "\n",
    "\n"
   ]
  },
  {
   "cell_type": "code",
   "execution_count": 190,
   "metadata": {},
   "outputs": [
    {
     "name": "stdout",
     "output_type": "stream",
     "text": [
      "\n",
      "Missing Values:\n",
      "Location       0\n",
      "Type           0\n",
      "Category       0\n",
      "Description    0\n",
      "Price          0\n",
      "Date           0\n",
      "Rooms          0\n",
      "Surface        7\n",
      "dtype: int64\n"
     ]
    }
   ],
   "source": [
    "# Check for missing values\n",
    "print(\"\\nMissing Values:\")\n",
    "print(data.isnull().sum())"
   ]
  },
  {
   "cell_type": "code",
   "execution_count": 191,
   "metadata": {},
   "outputs": [
    {
     "name": "stdout",
     "output_type": "stream",
     "text": [
      "\n",
      "Rows with null Surface values:\n",
      "         Location      Type Category               Description      Price  \\\n",
      "152    El Manar 1     Vente  Maisons  Grande villa s6 avec gra  1 300 000   \n",
      "162  Berge Du Lac  Location  Maisons    Villa haut standing s6      9 500   \n",
      "166    El Manar 1     Vente  Maisons  Grande villa s6 avec gra  1 300 000   \n",
      "185  Berge Du Lac  Location  Maisons    Villa haut standing s6      9 500   \n",
      "189    El Manar 1     Vente  Maisons  Grande villa s6 avec gra  1 300 000   \n",
      "213  Berge Du Lac  Location  Maisons    Villa haut standing s6      9 500   \n",
      "217    El Manar 1     Vente  Maisons  Grande villa s6 avec gra  1 300 000   \n",
      "\n",
      "           Date  Rooms  Surface  \n",
      "152  19/12/2024      6      NaN  \n",
      "162  19/12/2024      6      NaN  \n",
      "166  19/12/2024      6      NaN  \n",
      "185  19/12/2024      6      NaN  \n",
      "189  19/12/2024      6      NaN  \n",
      "213  19/12/2024      6      NaN  \n",
      "217  19/12/2024      6      NaN  \n",
      "\n",
      "Number of rows with null Surface: 7\n",
      "\n",
      "Data after dropping rows with null Surface:\n",
      "        Location      Type     Category               Description  Price  \\\n",
      "0     El Manar 1  Location  App. 3 pièc  Mignon appartement meubl  1 500   \n",
      "1    El Menzah 9  Location  App. 3 pièc  Magnifique appartement s  1 350   \n",
      "2        Gammart  Location      Maisons   Triplex s4 avec piscine  7 500   \n",
      "3  Marsa Erriadh  Location  App. 4 pièc      Appart s3 samar à la  1 250   \n",
      "4        Gammart  Location       Duplex  Duplex meuble s3 a gamma  4 500   \n",
      "\n",
      "         Date  Rooms     Surface  \n",
      "0  19/12/2024      2  113.408163  \n",
      "1  19/12/2024      2  113.408163  \n",
      "2  19/12/2024      4  159.090909  \n",
      "3  19/12/2024      3  130.000000  \n",
      "4  19/12/2024      3  197.720588  \n",
      "Number of rows after dropping null Surface values: 481\n"
     ]
    }
   ],
   "source": [
    "# Display rows with null Surface values\n",
    "null_surface_rows = data[data['Surface'].isnull()]\n",
    "print(\"\\nRows with null Surface values:\")\n",
    "print(null_surface_rows)\n",
    "\n",
    "# Show the count of rows with null Surface\n",
    "print(f\"\\nNumber of rows with null Surface: {len(null_surface_rows)}\")\n",
    "\n",
    "# Drop rows with null Surface values\n",
    "data = data.dropna(subset=['Surface'])\n",
    "\n",
    "# Reset the index after dropping rows\n",
    "data = data.reset_index(drop=True)\n",
    "\n",
    "# Verify the result\n",
    "print(\"\\nData after dropping rows with null Surface:\")\n",
    "print(data.head())\n",
    "print(f\"Number of rows after dropping null Surface values: {len(data)}\")\n"
   ]
  },
  {
   "cell_type": "code",
   "execution_count": 192,
   "metadata": {},
   "outputs": [
    {
     "name": "stdout",
     "output_type": "stream",
     "text": [
      "Number of duplicate rows after cleaning: 0\n",
      "\n",
      "Data after removing duplicates:\n",
      "        Location      Type     Category               Description  Price  \\\n",
      "0     El Manar 1  Location  App. 3 pièc  Mignon appartement meubl  1 500   \n",
      "1    El Menzah 9  Location  App. 3 pièc  Magnifique appartement s  1 350   \n",
      "2        Gammart  Location      Maisons   Triplex s4 avec piscine  7 500   \n",
      "3  Marsa Erriadh  Location  App. 4 pièc      Appart s3 samar à la  1 250   \n",
      "4        Gammart  Location       Duplex  Duplex meuble s3 a gamma  4 500   \n",
      "\n",
      "         Date  Rooms     Surface  \n",
      "0  19/12/2024      2  113.408163  \n",
      "1  19/12/2024      2  113.408163  \n",
      "2  19/12/2024      4  159.090909  \n",
      "3  19/12/2024      3  130.000000  \n",
      "4  19/12/2024      3  197.720588  \n"
     ]
    }
   ],
   "source": [
    "# Remove duplicate rows\n",
    "data = data.drop_duplicates()\n",
    "\n",
    "# Reset the index after removing duplicates\n",
    "data = data.reset_index(drop=True)\n",
    "\n",
    "# Display the number of duplicate rows after cleaning\n",
    "print(f\"Number of duplicate rows after cleaning: {data.duplicated().sum()}\")\n",
    "\n",
    "# Verify the result\n",
    "print(\"\\nData after removing duplicates:\")\n",
    "print(data.head())"
   ]
  },
  {
   "cell_type": "code",
   "execution_count": 193,
   "metadata": {},
   "outputs": [
    {
     "name": "stdout",
     "output_type": "stream",
     "text": [
      "Number of rows after filtering: 115\n",
      "        Location      Type     Category               Description  Price  \\\n",
      "0     El Manar 1  Location  App. 3 pièc  Mignon appartement meubl  1 500   \n",
      "1    El Menzah 9  Location  App. 3 pièc  Magnifique appartement s  1 350   \n",
      "2        Gammart  Location      Maisons   Triplex s4 avec piscine  7 500   \n",
      "3  Marsa Erriadh  Location  App. 4 pièc      Appart s3 samar à la  1 250   \n",
      "4        Gammart  Location       Duplex  Duplex meuble s3 a gamma  4 500   \n",
      "\n",
      "         Date  Rooms     Surface  \n",
      "0  19/12/2024      2  113.408163  \n",
      "1  19/12/2024      2  113.408163  \n",
      "2  19/12/2024      4  159.090909  \n",
      "3  19/12/2024      3  130.000000  \n",
      "4  19/12/2024      3  197.720588  \n"
     ]
    }
   ],
   "source": [
    "# Filter the DataFrame to keep only rows with specified categories\n",
    "valid_categories = ['Location', 'Location vacance', 'Vente']\n",
    "data = data[data['Type'].isin(valid_categories)]  # Filter based on the 'Type' column\n",
    "\n",
    "# Reset the index after filtering\n",
    "data = data.reset_index(drop=True)\n",
    "\n",
    "# Verify the result\n",
    "print(f\"Number of rows after filtering: {len(data)}\")\n",
    "print(data.head())\n"
   ]
  },
  {
   "cell_type": "code",
   "execution_count": 194,
   "metadata": {},
   "outputs": [
    {
     "name": "stdout",
     "output_type": "stream",
     "text": [
      "Cleaned data saved to Clean_data.csv\n"
     ]
    }
   ],
   "source": [
    "# Save the cleaned data to a new CSV\n",
    "cleaned_file_path = \"Clean_data.csv\"\n",
    "data.to_csv(cleaned_file_path, index=False)\n",
    "print(f\"Cleaned data saved to {cleaned_file_path}\")\n"
   ]
  }
 ],
 "metadata": {
  "kernelspec": {
   "display_name": "Atelier_ML",
   "language": "python",
   "name": "python3"
  },
  "language_info": {
   "codemirror_mode": {
    "name": "ipython",
    "version": 3
   },
   "file_extension": ".py",
   "mimetype": "text/x-python",
   "name": "python",
   "nbconvert_exporter": "python",
   "pygments_lexer": "ipython3",
   "version": "3.8.19"
  }
 },
 "nbformat": 4,
 "nbformat_minor": 2
}
